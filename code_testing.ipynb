{
 "cells": [
  {
   "cell_type": "code",
   "execution_count": 70,
   "id": "b10c640a",
   "metadata": {},
   "outputs": [],
   "source": [
    "import pandas as pd\n",
    "from googleapiclient.discovery import build\n",
    "import re\n",
    "\n",
    "import os\n",
    "import dotenv\n",
    "\n",
    "dotenv.load_dotenv()\n",
    "\n",
    "API_KEY = os.environ.get('API_KEY')\n",
    "\n",
    "from pprint import pprint\n",
    "\n",
    "from datetime import datetime, timedelta\n"
   ]
  },
  {
   "cell_type": "code",
   "execution_count": 2,
   "id": "ee847ee0",
   "metadata": {},
   "outputs": [],
   "source": [
    "def construct_service(API_KEY):\n",
    "    \"\"\"\n",
    "    Creates service object from build method\n",
    "    \"\"\"\n",
    "\n",
    "    API_SERVICE = 'youtube'\n",
    "    API_VERSION = 'v3'\n",
    "    service = build(\n",
    "        API_SERVICE,\n",
    "        API_VERSION,\n",
    "        developerKey=API_KEY\n",
    "    )\n",
    "    return service"
   ]
  },
  {
   "cell_type": "code",
   "execution_count": 3,
   "id": "8c420599",
   "metadata": {},
   "outputs": [],
   "source": [
    "service = construct_service(API_KEY)\n"
   ]
  },
  {
   "cell_type": "code",
   "execution_count": 34,
   "id": "b96e0467",
   "metadata": {},
   "outputs": [],
   "source": [
    "channels = service.channels().list(\n",
    "    part='snippet,statistics,contentDetails',\n",
    "    id='UCJtS_7gQr-mpwDvmPODptPg,UCtUId5WFnN82GdDy7DgaQ7w,UCWGVQIspqW2j9M3-qLQ0HDg,UCR4s1DE9J4DHzZYXMltSMAg,UCXFeIOYbhWHrXCIqerycvNQ',\n",
    "    maxResults=50).execute()"
   ]
  },
  {
   "cell_type": "code",
   "execution_count": 152,
   "id": "cfa72dee",
   "metadata": {},
   "outputs": [
    {
     "data": {
      "text/plain": [
       "{'viewCount': '692992670', 'hiddenSubscriberCount': True, 'videoCount': '72'}"
      ]
     },
     "execution_count": 152,
     "metadata": {},
     "output_type": "execute_result"
    }
   ],
   "source": [
    "channels['items'][2]['statistics']"
   ]
  },
  {
   "cell_type": "code",
   "execution_count": null,
   "id": "f9c2fda0",
   "metadata": {},
   "outputs": [],
   "source": [
    "len(channels['items'])"
   ]
  },
  {
   "cell_type": "code",
   "execution_count": 19,
   "id": "9bb21f9d",
   "metadata": {},
   "outputs": [],
   "source": [
    "ids = [\n",
    "    'UUtUId5WFnN82GdDy7DgaQ7w',\n",
    "    'UUmvxF8oGSEvrsOZCIxMDCDQ']"
   ]
  },
  {
   "cell_type": "code",
   "execution_count": 32,
   "id": "a330e989",
   "metadata": {},
   "outputs": [],
   "source": [
    "response = service.playlistItems().list(\n",
    "    part='contentDetails',\n",
    "    playlistId='UUtUId5WFnN82GdDy7DgaQ7w',\n",
    "    maxResults=1\n",
    ").execute()"
   ]
  },
  {
   "cell_type": "code",
   "execution_count": null,
   "id": "3aeb232d",
   "metadata": {},
   "outputs": [],
   "source": []
  },
  {
   "cell_type": "code",
   "execution_count": null,
   "id": "02ed161d",
   "metadata": {},
   "outputs": [],
   "source": []
  },
  {
   "cell_type": "code",
   "execution_count": null,
   "id": "97997c8f",
   "metadata": {},
   "outputs": [],
   "source": []
  }
 ],
 "metadata": {
  "kernelspec": {
   "display_name": "Python 3 (ipykernel)",
   "language": "python",
   "name": "python3"
  },
  "language_info": {
   "codemirror_mode": {
    "name": "ipython",
    "version": 3
   },
   "file_extension": ".py",
   "mimetype": "text/x-python",
   "name": "python",
   "nbconvert_exporter": "python",
   "pygments_lexer": "ipython3",
   "version": "3.9.7"
  }
 },
 "nbformat": 4,
 "nbformat_minor": 5
}
