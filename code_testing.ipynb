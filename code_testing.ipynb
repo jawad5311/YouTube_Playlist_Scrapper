{
 "cells": [
  {
   "cell_type": "code",
   "execution_count": 11,
   "id": "e7b89eca",
   "metadata": {},
   "outputs": [],
   "source": [
    "import pandas as pd\n",
    "from googleapiclient.discovery import build\n",
    "import re\n",
    "\n",
    "import os\n",
    "import dotenv\n",
    "\n",
    "dotenv.load_dotenv()\n",
    "\n",
    "API_KEY = os.environ.get('API_KEY')\n",
    "\n",
    "from pprint import pprint\n"
   ]
  },
  {
   "cell_type": "code",
   "execution_count": 6,
   "id": "d1d7a98a",
   "metadata": {},
   "outputs": [],
   "source": [
    "def construct_service(API_KEY):\n",
    "    \"\"\"\n",
    "    Creates service object from build method\n",
    "    \"\"\"\n",
    "\n",
    "    API_SERVICE = 'youtube'\n",
    "    API_VERSION = 'v3'\n",
    "    service = build(\n",
    "        API_SERVICE,\n",
    "        API_VERSION,\n",
    "        developerKey=API_KEY\n",
    "    )\n",
    "    return service"
   ]
  },
  {
   "cell_type": "code",
   "execution_count": 7,
   "id": "39bcdab5",
   "metadata": {},
   "outputs": [],
   "source": [
    "service = construct_service(API_KEY)\n"
   ]
  },
  {
   "cell_type": "code",
   "execution_count": 9,
   "id": "2c6c9d64",
   "metadata": {},
   "outputs": [],
   "source": [
    "channels = service.channels().list(\n",
    "    part='snippet,statistics,contentDetails',\n",
    "    id='UCBXNpF6k2n8dsI6nBH8q4sQ,UCzav3AnB8UKKM6zzg1_CHpA,UCk8GzjMOrta8yxDcKfylJYw,UCNQhIWvTBvRe_a1q1e94m_A,UCfLuT3JwLx8rvHjHfTymekw,UCfcQPMZg4tNk6tKUTHbAr0g,UCmvxF8oGSEvrsOZCIxMDCDQ,UC18tn7K9Asxo1MTWK51AT2Q,UC5SYKAP880X9TDtpg3TZCIA,UCfdNM3NAhaBOXCafH7krzrA,UCJtS_7gQr-mpwDvmPODptPg,UCtUId5WFnN82GdDy7DgaQ7w,UCWGVQIspqW2j9M3-qLQ0HDg,UCR4s1DE9J4DHzZYXMltSMAg,UCXFeIOYbhWHrXCIqerycvNQ',\n",
    "    maxResults=50).execute()"
   ]
  },
  {
   "cell_type": "code",
   "execution_count": 16,
   "id": "848bb540",
   "metadata": {},
   "outputs": [
    {
     "data": {
      "text/plain": [
       "dict_keys(['kind', 'etag', 'id', 'snippet', 'contentDetails', 'statistics', 'contentOwnerDetails'])"
      ]
     },
     "execution_count": 16,
     "metadata": {},
     "output_type": "execute_result"
    }
   ],
   "source": [
    "channels['items'][0].keys()"
   ]
  },
  {
   "cell_type": "code",
   "execution_count": 14,
   "id": "5167764a",
   "metadata": {},
   "outputs": [
    {
     "data": {
      "text/plain": [
       "15"
      ]
     },
     "execution_count": 14,
     "metadata": {},
     "output_type": "execute_result"
    }
   ],
   "source": [
    "len(channels['items'])"
   ]
  },
  {
   "cell_type": "code",
   "execution_count": 59,
   "id": "7be3dba9",
   "metadata": {
    "scrolled": true
   },
   "outputs": [
    {
     "data": {
      "text/plain": [
       "{'kind': 'youtube#channel',\n",
       " 'etag': 'qbRPA-oiuypyirJPA1W2_B-hMoc',\n",
       " 'id': 'UC5SYKAP880X9TDtpg3TZCIA',\n",
       " 'snippet': {'title': 'Amazing Magnet',\n",
       "  'description': 'Welcome To Amazing Magnet Channel!\\n\\nAmazing Magnet will show you a different view of magnets, a colorful and creative world formed by magnets. You will definitely be amazed at what magnets can do.\\nThe magnetism has always intrigued me. The strength of the magnets is scientifically explainable but there\\'s something \"magical\" about its interaction with the world. \\nAmazing Magnet builds famous constructions, makes supercars, construction machines,.... Our channel also help people fall asleep with asmr sound from magnetic balls collision.\\nWe will bring you an exciting and new experience about magnets, join us!\\n\\nThank you and please subscribe my channel, it\\'s free!! 😉 https://goo.gl/MVGp2q',\n",
       "  'publishedAt': '2018-08-28T17:25:45Z',\n",
       "  'thumbnails': {'default': {'url': 'https://yt3.ggpht.com/ytc/AKedOLQHk8rzn2Uw2GUGrLCA2ujGVZ7U_pFHiL3tLIYs2g=s88-c-k-c0x00ffffff-no-rj',\n",
       "    'width': 88,\n",
       "    'height': 88},\n",
       "   'medium': {'url': 'https://yt3.ggpht.com/ytc/AKedOLQHk8rzn2Uw2GUGrLCA2ujGVZ7U_pFHiL3tLIYs2g=s240-c-k-c0x00ffffff-no-rj',\n",
       "    'width': 240,\n",
       "    'height': 240},\n",
       "   'high': {'url': 'https://yt3.ggpht.com/ytc/AKedOLQHk8rzn2Uw2GUGrLCA2ujGVZ7U_pFHiL3tLIYs2g=s800-c-k-c0x00ffffff-no-rj',\n",
       "    'width': 800,\n",
       "    'height': 800}},\n",
       "  'localized': {'title': 'Amazing Magnet',\n",
       "   'description': 'Welcome To Amazing Magnet Channel!\\n\\nAmazing Magnet will show you a different view of magnets, a colorful and creative world formed by magnets. You will definitely be amazed at what magnets can do.\\nThe magnetism has always intrigued me. The strength of the magnets is scientifically explainable but there\\'s something \"magical\" about its interaction with the world. \\nAmazing Magnet builds famous constructions, makes supercars, construction machines,.... Our channel also help people fall asleep with asmr sound from magnetic balls collision.\\nWe will bring you an exciting and new experience about magnets, join us!\\n\\nThank you and please subscribe my channel, it\\'s free!! 😉 https://goo.gl/MVGp2q'},\n",
       "  'country': 'US'},\n",
       " 'contentDetails': {'relatedPlaylists': {'likes': '',\n",
       "   'uploads': 'UU5SYKAP880X9TDtpg3TZCIA'}},\n",
       " 'statistics': {'viewCount': '738748007',\n",
       "  'subscriberCount': '2550000',\n",
       "  'hiddenSubscriberCount': False,\n",
       "  'videoCount': '510'},\n",
       " 'contentOwnerDetails': {}}"
      ]
     },
     "execution_count": 59,
     "metadata": {},
     "output_type": "execute_result"
    }
   ],
   "source": [
    "channels['items'][1]"
   ]
  },
  {
   "cell_type": "code",
   "execution_count": 70,
   "id": "5f18a311",
   "metadata": {},
   "outputs": [
    {
     "data": {
      "text/plain": [
       "str"
      ]
     },
     "execution_count": 70,
     "metadata": {},
     "output_type": "execute_result"
    }
   ],
   "source": [
    "type(channels['items'][1]['statistics']['subscriberCount'])"
   ]
  },
  {
   "cell_type": "code",
   "execution_count": 34,
   "id": "37e4f3ea",
   "metadata": {},
   "outputs": [
    {
     "name": "stdout",
     "output_type": "stream",
     "text": [
      "{'hiddenSubscriberCount': True, 'videoCount': '72', 'viewCount': '690910514'}\n"
     ]
    }
   ],
   "source": [
    "pprint(channels['items'][14]['statistics'])"
   ]
  },
  {
   "cell_type": "code",
   "execution_count": 67,
   "id": "0c93fbaf",
   "metadata": {},
   "outputs": [],
   "source": [
    "filter_list = []\n",
    "\n",
    "for item in channels['items']:\n",
    "    subs_hidden = item['statistics']['hiddenSubscriberCount']\n",
    "    vid_count = item['statistics']['videoCount']\n",
    "    \n",
    "    if int(vid_count) > 20:\n",
    "        if not subs_hidden:\n",
    "            subs = item['statistics']['subscriberCount']\n",
    "            if 1000 < int(subs) < 100000:\n",
    "                filter_list.append(item)\n",
    "        else:\n",
    "            item['statistics']['subscriberCount'] = '0'\n",
    "            filter_list.append(item)\n"
   ]
  },
  {
   "cell_type": "code",
   "execution_count": 68,
   "id": "cf86a9f4",
   "metadata": {},
   "outputs": [
    {
     "data": {
      "text/plain": [
       "([{'kind': 'youtube#channel',\n",
       "   'etag': 'rrNVtP_yRv3J9mcpTgIgpiLfTRA',\n",
       "   'id': 'UCNQhIWvTBvRe_a1q1e94m_A',\n",
       "   'snippet': {'title': 'Fatima Batool',\n",
       "    'description': 'Ms. Fatima Batool, through her CSS lectures, has been helping students understand: what is CSS? how to prepare for CSS exams in Pakistan? how to prepare for CSS? how to do PMS preparation? how to write an essay? how to read newspapers? what is thesis statement? how to make an outline? how to prepare for CSS interview? how to become a CSS topper? how to write paragraph? what is main idea? what is subject verb agreement? what are common grammatical mistakes? Besides her creative writing course, she has started free courses on basic English grammar which includes BA English (Punjab University), HSC English, and much more. \\n#CSSExamsinPakistan ##PMSPreparation #CSSExamsinPakistan #CivilServicesExams #EnglishgrammarinUrdu #Creativewritingcourse #Thesisstatement #CSSLectures #CSSpreparations #FreeEducation #CSSInterviews #CSSToppers',\n",
       "    'customUrl': 'fatimabatoolleadersinn',\n",
       "    'publishedAt': '2018-12-01T19:00:54Z',\n",
       "    'thumbnails': {'default': {'url': 'https://yt3.ggpht.com/ytc/AKedOLSAzfpWfiItL0VVFHQWgLO_SOp-yr7XnZoBBhGXCg=s88-c-k-c0x00ffffff-no-rj',\n",
       "      'width': 88,\n",
       "      'height': 88},\n",
       "     'medium': {'url': 'https://yt3.ggpht.com/ytc/AKedOLSAzfpWfiItL0VVFHQWgLO_SOp-yr7XnZoBBhGXCg=s240-c-k-c0x00ffffff-no-rj',\n",
       "      'width': 240,\n",
       "      'height': 240},\n",
       "     'high': {'url': 'https://yt3.ggpht.com/ytc/AKedOLSAzfpWfiItL0VVFHQWgLO_SOp-yr7XnZoBBhGXCg=s800-c-k-c0x00ffffff-no-rj',\n",
       "      'width': 800,\n",
       "      'height': 800}},\n",
       "    'localized': {'title': 'Fatima Batool',\n",
       "     'description': 'Ms. Fatima Batool, through her CSS lectures, has been helping students understand: what is CSS? how to prepare for CSS exams in Pakistan? how to prepare for CSS? how to do PMS preparation? how to write an essay? how to read newspapers? what is thesis statement? how to make an outline? how to prepare for CSS interview? how to become a CSS topper? how to write paragraph? what is main idea? what is subject verb agreement? what are common grammatical mistakes? Besides her creative writing course, she has started free courses on basic English grammar which includes BA English (Punjab University), HSC English, and much more. \\n#CSSExamsinPakistan ##PMSPreparation #CSSExamsinPakistan #CivilServicesExams #EnglishgrammarinUrdu #Creativewritingcourse #Thesisstatement #CSSLectures #CSSpreparations #FreeEducation #CSSInterviews #CSSToppers'},\n",
       "    'country': 'PK'},\n",
       "   'contentDetails': {'relatedPlaylists': {'likes': '',\n",
       "     'uploads': 'UUNQhIWvTBvRe_a1q1e94m_A'}},\n",
       "   'statistics': {'viewCount': '1334586',\n",
       "    'subscriberCount': '55200',\n",
       "    'hiddenSubscriberCount': False,\n",
       "    'videoCount': '97'},\n",
       "   'contentOwnerDetails': {}},\n",
       "  {'kind': 'youtube#channel',\n",
       "   'etag': '_iCZgQ-8BS06g8rUPlrPHOJVp8w',\n",
       "   'id': 'UC18tn7K9Asxo1MTWK51AT2Q',\n",
       "   'snippet': {'title': 'Gutes Leben',\n",
       "    'description': 'Gutes Leben Channel for pure beauty tips',\n",
       "    'publishedAt': '2020-05-10T22:04:51.378508Z',\n",
       "    'thumbnails': {'default': {'url': 'https://yt3.ggpht.com/z0NqEn7WqlTuZlrTz8kLxICa7AtxlVWvOhs99KDvt8rwndd0sbSjVcMhG008VNNUroR5k3lElA=s88-c-k-c0x00ffffff-no-rj',\n",
       "      'width': 88,\n",
       "      'height': 88},\n",
       "     'medium': {'url': 'https://yt3.ggpht.com/z0NqEn7WqlTuZlrTz8kLxICa7AtxlVWvOhs99KDvt8rwndd0sbSjVcMhG008VNNUroR5k3lElA=s240-c-k-c0x00ffffff-no-rj',\n",
       "      'width': 240,\n",
       "      'height': 240},\n",
       "     'high': {'url': 'https://yt3.ggpht.com/z0NqEn7WqlTuZlrTz8kLxICa7AtxlVWvOhs99KDvt8rwndd0sbSjVcMhG008VNNUroR5k3lElA=s800-c-k-c0x00ffffff-no-rj',\n",
       "      'width': 800,\n",
       "      'height': 800}},\n",
       "    'localized': {'title': 'Gutes Leben',\n",
       "     'description': 'Gutes Leben Channel for pure beauty tips'},\n",
       "    'country': 'US'},\n",
       "   'contentDetails': {'relatedPlaylists': {'likes': '',\n",
       "     'uploads': 'UU18tn7K9Asxo1MTWK51AT2Q'}},\n",
       "   'statistics': {'viewCount': '8114498',\n",
       "    'subscriberCount': '28900',\n",
       "    'hiddenSubscriberCount': False,\n",
       "    'videoCount': '63'},\n",
       "   'contentOwnerDetails': {}},\n",
       "  {'kind': 'youtube#channel',\n",
       "   'etag': 'iUUHCQFwlc7_ykv6yAMT6dZjUXA',\n",
       "   'id': 'UCJtS_7gQr-mpwDvmPODptPg',\n",
       "   'snippet': {'title': 'Among Us',\n",
       "    'description': '',\n",
       "    'publishedAt': '2016-09-23T17:33:18Z',\n",
       "    'thumbnails': {'default': {'url': 'https://yt3.ggpht.com/F3ud5QbpmRgUcJO4flkypybLpGr_nQxWk2bAkFRJ6PgArsfmiIlIS8XzgQbB_vFL4nImLKib9E0=s88-c-k-c0x00ffffff-no-rj',\n",
       "      'width': 88,\n",
       "      'height': 88},\n",
       "     'medium': {'url': 'https://yt3.ggpht.com/F3ud5QbpmRgUcJO4flkypybLpGr_nQxWk2bAkFRJ6PgArsfmiIlIS8XzgQbB_vFL4nImLKib9E0=s240-c-k-c0x00ffffff-no-rj',\n",
       "      'width': 240,\n",
       "      'height': 240},\n",
       "     'high': {'url': 'https://yt3.ggpht.com/F3ud5QbpmRgUcJO4flkypybLpGr_nQxWk2bAkFRJ6PgArsfmiIlIS8XzgQbB_vFL4nImLKib9E0=s800-c-k-c0x00ffffff-no-rj',\n",
       "      'width': 800,\n",
       "      'height': 800}},\n",
       "    'localized': {'title': 'Among Us', 'description': ''},\n",
       "    'country': 'US'},\n",
       "   'contentDetails': {'relatedPlaylists': {'likes': '',\n",
       "     'uploads': 'UUJtS_7gQr-mpwDvmPODptPg'}},\n",
       "   'statistics': {'viewCount': '690910514',\n",
       "    'hiddenSubscriberCount': True,\n",
       "    'videoCount': '72',\n",
       "    'subscriberCount': '0'},\n",
       "   'contentOwnerDetails': {}}],\n",
       " 3)"
      ]
     },
     "execution_count": 68,
     "metadata": {},
     "output_type": "execute_result"
    }
   ],
   "source": [
    "filter_list, len(filter_list)"
   ]
  },
  {
   "cell_type": "code",
   "execution_count": null,
   "id": "5cf5fa66",
   "metadata": {},
   "outputs": [],
   "source": []
  },
  {
   "cell_type": "code",
   "execution_count": null,
   "id": "827aee9f",
   "metadata": {},
   "outputs": [],
   "source": []
  },
  {
   "cell_type": "code",
   "execution_count": null,
   "id": "e97b4814",
   "metadata": {},
   "outputs": [],
   "source": []
  },
  {
   "cell_type": "code",
   "execution_count": null,
   "id": "a2e92e43",
   "metadata": {},
   "outputs": [],
   "source": []
  },
  {
   "cell_type": "code",
   "execution_count": null,
   "id": "5f0aa6c2",
   "metadata": {},
   "outputs": [],
   "source": []
  },
  {
   "cell_type": "code",
   "execution_count": null,
   "id": "d9591a1a",
   "metadata": {},
   "outputs": [],
   "source": []
  },
  {
   "cell_type": "code",
   "execution_count": null,
   "id": "12c3ded5",
   "metadata": {},
   "outputs": [],
   "source": []
  },
  {
   "cell_type": "code",
   "execution_count": null,
   "id": "b667f124",
   "metadata": {},
   "outputs": [],
   "source": []
  },
  {
   "cell_type": "code",
   "execution_count": null,
   "id": "f7950258",
   "metadata": {},
   "outputs": [],
   "source": []
  },
  {
   "cell_type": "code",
   "execution_count": null,
   "id": "66595bd8",
   "metadata": {},
   "outputs": [],
   "source": []
  },
  {
   "cell_type": "code",
   "execution_count": null,
   "id": "43e5b504",
   "metadata": {},
   "outputs": [],
   "source": []
  },
  {
   "cell_type": "code",
   "execution_count": null,
   "id": "faa0ba51",
   "metadata": {},
   "outputs": [],
   "source": []
  },
  {
   "cell_type": "code",
   "execution_count": null,
   "id": "41c9c696",
   "metadata": {},
   "outputs": [],
   "source": []
  },
  {
   "cell_type": "code",
   "execution_count": null,
   "id": "f27269ca",
   "metadata": {},
   "outputs": [],
   "source": []
  },
  {
   "cell_type": "code",
   "execution_count": null,
   "id": "0479020f",
   "metadata": {},
   "outputs": [],
   "source": []
  },
  {
   "cell_type": "code",
   "execution_count": null,
   "id": "8f679941",
   "metadata": {},
   "outputs": [],
   "source": []
  },
  {
   "cell_type": "code",
   "execution_count": null,
   "id": "555b6dc1",
   "metadata": {},
   "outputs": [],
   "source": []
  },
  {
   "cell_type": "code",
   "execution_count": null,
   "id": "46b07310",
   "metadata": {},
   "outputs": [],
   "source": []
  },
  {
   "cell_type": "code",
   "execution_count": null,
   "id": "34dff8c6",
   "metadata": {},
   "outputs": [],
   "source": []
  },
  {
   "cell_type": "code",
   "execution_count": null,
   "id": "14661ec0",
   "metadata": {},
   "outputs": [],
   "source": []
  },
  {
   "cell_type": "code",
   "execution_count": null,
   "id": "eb04287d",
   "metadata": {},
   "outputs": [],
   "source": []
  }
 ],
 "metadata": {
  "kernelspec": {
   "display_name": "Python 3 (ipykernel)",
   "language": "python",
   "name": "python3"
  },
  "language_info": {
   "codemirror_mode": {
    "name": "ipython",
    "version": 3
   },
   "file_extension": ".py",
   "mimetype": "text/x-python",
   "name": "python",
   "nbconvert_exporter": "python",
   "pygments_lexer": "ipython3",
   "version": "3.9.7"
  }
 },
 "nbformat": 4,
 "nbformat_minor": 5
}
