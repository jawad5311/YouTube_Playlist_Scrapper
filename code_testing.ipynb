{
 "cells": [
  {
   "cell_type": "code",
   "execution_count": 70,
   "id": "ceda61f1",
   "metadata": {},
   "outputs": [],
   "source": [
    "import pandas as pd\n",
    "from googleapiclient.discovery import build\n",
    "import re\n",
    "\n",
    "import os\n",
    "import dotenv\n",
    "\n",
    "dotenv.load_dotenv()\n",
    "\n",
    "API_KEY = os.environ.get('API_KEY')\n",
    "\n",
    "from pprint import pprint\n",
    "\n",
    "from datetime import datetime, timedelta\n"
   ]
  },
  {
   "cell_type": "code",
   "execution_count": 2,
   "id": "05350518",
   "metadata": {},
   "outputs": [],
   "source": [
    "def construct_service(API_KEY):\n",
    "    \"\"\"\n",
    "    Creates service object from build method\n",
    "    \"\"\"\n",
    "\n",
    "    API_SERVICE = 'youtube'\n",
    "    API_VERSION = 'v3'\n",
    "    service = build(\n",
    "        API_SERVICE,\n",
    "        API_VERSION,\n",
    "        developerKey=API_KEY\n",
    "    )\n",
    "    return service"
   ]
  },
  {
   "cell_type": "code",
   "execution_count": 3,
   "id": "4c02fc60",
   "metadata": {},
   "outputs": [],
   "source": [
    "service = construct_service(API_KEY)\n"
   ]
  },
  {
   "cell_type": "code",
   "execution_count": 34,
   "id": "a26d0af9",
   "metadata": {},
   "outputs": [],
   "source": [
    "channels = service.channels().list(\n",
    "    part='snippet,statistics,contentDetails',\n",
    "    id='UCJtS_7gQr-mpwDvmPODptPg,UCtUId5WFnN82GdDy7DgaQ7w,UCWGVQIspqW2j9M3-qLQ0HDg,UCR4s1DE9J4DHzZYXMltSMAg,UCXFeIOYbhWHrXCIqerycvNQ',\n",
    "    maxResults=50).execute()"
   ]
  },
  {
   "cell_type": "code",
   "execution_count": 38,
   "id": "0f075921",
   "metadata": {},
   "outputs": [
    {
     "data": {
      "text/plain": [
       "'UUJtS_7gQr-mpwDvmPODptPg'"
      ]
     },
     "execution_count": 38,
     "metadata": {},
     "output_type": "execute_result"
    }
   ],
   "source": [
    "channels['items'][2]['contentDetails']['relatedPlaylists']['uploads']"
   ]
  },
  {
   "cell_type": "code",
   "execution_count": null,
   "id": "16eae877",
   "metadata": {},
   "outputs": [],
   "source": [
    "len(channels['items'])"
   ]
  },
  {
   "cell_type": "code",
   "execution_count": 19,
   "id": "8a4c384f",
   "metadata": {},
   "outputs": [],
   "source": [
    "ids = [\n",
    "    'UUtUId5WFnN82GdDy7DgaQ7w',\n",
    "    'UUmvxF8oGSEvrsOZCIxMDCDQ']"
   ]
  },
  {
   "cell_type": "code",
   "execution_count": 32,
   "id": "8c8684f7",
   "metadata": {},
   "outputs": [],
   "source": [
    "response = service.playlistItems().list(\n",
    "    part='contentDetails',\n",
    "    playlistId='UUtUId5WFnN82GdDy7DgaQ7w',\n",
    "    maxResults=1\n",
    ").execute()"
   ]
  },
  {
   "cell_type": "code",
   "execution_count": null,
   "id": "c1dcb920",
   "metadata": {},
   "outputs": [],
   "source": []
  },
  {
   "cell_type": "code",
   "execution_count": null,
   "id": "b3f9bfb6",
   "metadata": {},
   "outputs": [],
   "source": []
  },
  {
   "cell_type": "code",
   "execution_count": 141,
   "id": "449b9325",
   "metadata": {},
   "outputs": [],
   "source": [
    "d = []\n",
    "\n",
    "for item in data:\n",
    "    channel_id = item['id']\n",
    "    channel_id = f'youtube.com/channel/{channel_id}'\n",
    "\n",
    "    channel_title = item['snippet']['title']\n",
    "\n",
    "    channel_date = item['snippet']['publishedAt'][:10]\n",
    "    # channel_date = datetime.strptime(channel_date, '%Y-%m-%d')\n",
    "\n",
    "    try:\n",
    "        country = item['snippet']['country']\n",
    "    except KeyError:\n",
    "        country = 'Not Available'\n",
    "\n",
    "    try:\n",
    "        custom_url = item['snippet']['customUrl']\n",
    "        custom_url = f'youtube.com/c/{custom_url}'\n",
    "    except KeyError:\n",
    "        custom_url = 'Not Available'\n",
    "\n",
    "    subs = item['statistics']['subscriberCount']\n",
    "    vid_count = item['statistics']['videoCount']\n",
    "    view_count = item['statistics']['viewCount']\n",
    "    \n",
    "    d.append({\n",
    "        'Title': channel_title,\n",
    "        'Subs': subs,\n",
    "        'ID': channel_id,\n",
    "        'Country': country,\n",
    "        'URL':custom_url,\n",
    "        'Videos': vid_count,\n",
    "        'Views': view_count,\n",
    "        'Date': channel_date\n",
    "    })\n",
    "    \n",
    "#     new_data = {\n",
    "#         'Title': channel_title,\n",
    "#         'Subs': subs\n",
    "#     }\n",
    "    \n",
    "pd_data = pd.DataFrame(d)"
   ]
  },
  {
   "cell_type": "code",
   "execution_count": 142,
   "id": "a207ebdf",
   "metadata": {},
   "outputs": [
    {
     "data": {
      "text/html": [
       "<div>\n",
       "<style scoped>\n",
       "    .dataframe tbody tr th:only-of-type {\n",
       "        vertical-align: middle;\n",
       "    }\n",
       "\n",
       "    .dataframe tbody tr th {\n",
       "        vertical-align: top;\n",
       "    }\n",
       "\n",
       "    .dataframe thead th {\n",
       "        text-align: right;\n",
       "    }\n",
       "</style>\n",
       "<table border=\"1\" class=\"dataframe\">\n",
       "  <thead>\n",
       "    <tr style=\"text-align: right;\">\n",
       "      <th></th>\n",
       "      <th>0</th>\n",
       "      <th>1</th>\n",
       "      <th>2</th>\n",
       "      <th>3</th>\n",
       "      <th>4</th>\n",
       "    </tr>\n",
       "  </thead>\n",
       "  <tbody>\n",
       "    <tr>\n",
       "      <th>Title</th>\n",
       "      <td>CraftZilla</td>\n",
       "      <td>MR. Hacks</td>\n",
       "      <td>Among Us</td>\n",
       "      <td>Rainbow ASMR</td>\n",
       "      <td>AK SMART INVENTIONS</td>\n",
       "    </tr>\n",
       "    <tr>\n",
       "      <th>Subs</th>\n",
       "      <td>56400</td>\n",
       "      <td>18700</td>\n",
       "      <td>0</td>\n",
       "      <td>0</td>\n",
       "      <td>6640</td>\n",
       "    </tr>\n",
       "    <tr>\n",
       "      <th>ID</th>\n",
       "      <td>youtube.com/channel/UCIQ2Xg2OgrJL6ixTQIkMuIQ</td>\n",
       "      <td>youtube.com/channel/UCFIbKVNe2y45W1O_880C7EQ</td>\n",
       "      <td>youtube.com/channel/UCJtS_7gQr-mpwDvmPODptPg</td>\n",
       "      <td>youtube.com/channel/UCO8-hZBrXcgnpGS5jPtmMEA</td>\n",
       "      <td>youtube.com/channel/UCfSk9eysh9_UJEHCR7NuyhQ</td>\n",
       "    </tr>\n",
       "    <tr>\n",
       "      <th>Country</th>\n",
       "      <td>IN</td>\n",
       "      <td>IN</td>\n",
       "      <td>US</td>\n",
       "      <td>US</td>\n",
       "      <td>Not Available</td>\n",
       "    </tr>\n",
       "    <tr>\n",
       "      <th>URL</th>\n",
       "      <td>youtube.com/c/craftzilladiy</td>\n",
       "      <td>Not Available</td>\n",
       "      <td>Not Available</td>\n",
       "      <td>Not Available</td>\n",
       "      <td>youtube.com/c/aksmartinventions</td>\n",
       "    </tr>\n",
       "    <tr>\n",
       "      <th>Videos</th>\n",
       "      <td>175</td>\n",
       "      <td>78</td>\n",
       "      <td>73</td>\n",
       "      <td>44</td>\n",
       "      <td>68</td>\n",
       "    </tr>\n",
       "    <tr>\n",
       "      <th>Views</th>\n",
       "      <td>15382310</td>\n",
       "      <td>8799874</td>\n",
       "      <td>692992670</td>\n",
       "      <td>160789684</td>\n",
       "      <td>3505085</td>\n",
       "    </tr>\n",
       "    <tr>\n",
       "      <th>Date</th>\n",
       "      <td>2019-04-14</td>\n",
       "      <td>2021-05-17</td>\n",
       "      <td>2016-09-23</td>\n",
       "      <td>2021-07-31</td>\n",
       "      <td>2021-04-19</td>\n",
       "    </tr>\n",
       "  </tbody>\n",
       "</table>\n",
       "</div>"
      ],
      "text/plain": [
       "                                                    0  \\\n",
       "Title                                      CraftZilla   \n",
       "Subs                                            56400   \n",
       "ID       youtube.com/channel/UCIQ2Xg2OgrJL6ixTQIkMuIQ   \n",
       "Country                                            IN   \n",
       "URL                       youtube.com/c/craftzilladiy   \n",
       "Videos                                            175   \n",
       "Views                                        15382310   \n",
       "Date                                       2019-04-14   \n",
       "\n",
       "                                                    1  \\\n",
       "Title                                       MR. Hacks   \n",
       "Subs                                            18700   \n",
       "ID       youtube.com/channel/UCFIbKVNe2y45W1O_880C7EQ   \n",
       "Country                                            IN   \n",
       "URL                                     Not Available   \n",
       "Videos                                             78   \n",
       "Views                                         8799874   \n",
       "Date                                       2021-05-17   \n",
       "\n",
       "                                                    2  \\\n",
       "Title                                        Among Us   \n",
       "Subs                                                0   \n",
       "ID       youtube.com/channel/UCJtS_7gQr-mpwDvmPODptPg   \n",
       "Country                                            US   \n",
       "URL                                     Not Available   \n",
       "Videos                                             73   \n",
       "Views                                       692992670   \n",
       "Date                                       2016-09-23   \n",
       "\n",
       "                                                    3  \\\n",
       "Title                                    Rainbow ASMR   \n",
       "Subs                                                0   \n",
       "ID       youtube.com/channel/UCO8-hZBrXcgnpGS5jPtmMEA   \n",
       "Country                                            US   \n",
       "URL                                     Not Available   \n",
       "Videos                                             44   \n",
       "Views                                       160789684   \n",
       "Date                                       2021-07-31   \n",
       "\n",
       "                                                    4  \n",
       "Title                             AK SMART INVENTIONS  \n",
       "Subs                                             6640  \n",
       "ID       youtube.com/channel/UCfSk9eysh9_UJEHCR7NuyhQ  \n",
       "Country                                 Not Available  \n",
       "URL                   youtube.com/c/aksmartinventions  \n",
       "Videos                                             68  \n",
       "Views                                         3505085  \n",
       "Date                                       2021-04-19  "
      ]
     },
     "execution_count": 142,
     "metadata": {},
     "output_type": "execute_result"
    }
   ],
   "source": [
    "pd_data.head().T"
   ]
  },
  {
   "cell_type": "code",
   "execution_count": null,
   "id": "15484ef9",
   "metadata": {},
   "outputs": [],
   "source": []
  },
  {
   "cell_type": "code",
   "execution_count": null,
   "id": "3fd9ede9",
   "metadata": {},
   "outputs": [],
   "source": []
  },
  {
   "cell_type": "code",
   "execution_count": null,
   "id": "c6daf615",
   "metadata": {},
   "outputs": [],
   "source": []
  }
 ],
 "metadata": {
  "kernelspec": {
   "display_name": "Python 3 (ipykernel)",
   "language": "python",
   "name": "python3"
  },
  "language_info": {
   "codemirror_mode": {
    "name": "ipython",
    "version": 3
   },
   "file_extension": ".py",
   "mimetype": "text/x-python",
   "name": "python",
   "nbconvert_exporter": "python",
   "pygments_lexer": "ipython3",
   "version": "3.9.7"
  }
 },
 "nbformat": 4,
 "nbformat_minor": 5
}
