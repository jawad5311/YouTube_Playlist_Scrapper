{
 "cells": [
  {
   "cell_type": "code",
   "execution_count": 70,
   "id": "ff7c5b3b",
   "metadata": {},
   "outputs": [],
   "source": [
    "import pandas as pd\n",
    "from googleapiclient.discovery import build\n",
    "import re\n",
    "\n",
    "import os\n",
    "import dotenv\n",
    "\n",
    "dotenv.load_dotenv()\n",
    "\n",
    "API_KEY = os.environ.get('API_KEY')\n",
    "\n",
    "from pprint import pprint\n",
    "\n",
    "from datetime import datetime, timedelta\n"
   ]
  },
  {
   "cell_type": "code",
   "execution_count": 2,
   "id": "7a8157ac",
   "metadata": {},
   "outputs": [],
   "source": [
    "def construct_service(API_KEY):\n",
    "    \"\"\"\n",
    "    Creates service object from build method\n",
    "    \"\"\"\n",
    "\n",
    "    API_SERVICE = 'youtube'\n",
    "    API_VERSION = 'v3'\n",
    "    service = build(\n",
    "        API_SERVICE,\n",
    "        API_VERSION,\n",
    "        developerKey=API_KEY\n",
    "    )\n",
    "    return service"
   ]
  },
  {
   "cell_type": "code",
   "execution_count": 3,
   "id": "98492fc6",
   "metadata": {},
   "outputs": [],
   "source": [
    "service = construct_service(API_KEY)\n"
   ]
  },
  {
   "cell_type": "code",
   "execution_count": 34,
   "id": "fb2a0332",
   "metadata": {},
   "outputs": [],
   "source": [
    "channels = service.channels().list(\n",
    "    part='snippet,statistics,contentDetails',\n",
    "    id='UCJtS_7gQr-mpwDvmPODptPg,UCtUId5WFnN82GdDy7DgaQ7w,UCWGVQIspqW2j9M3-qLQ0HDg,UCR4s1DE9J4DHzZYXMltSMAg,UCXFeIOYbhWHrXCIqerycvNQ',\n",
    "    maxResults=50).execute()"
   ]
  },
  {
   "cell_type": "code",
   "execution_count": 38,
   "id": "0459c313",
   "metadata": {},
   "outputs": [
    {
     "data": {
      "text/plain": [
       "'UUJtS_7gQr-mpwDvmPODptPg'"
      ]
     },
     "execution_count": 38,
     "metadata": {},
     "output_type": "execute_result"
    }
   ],
   "source": [
    "channels['items'][2]['contentDetails']['relatedPlaylists']['uploads']"
   ]
  },
  {
   "cell_type": "code",
   "execution_count": null,
   "id": "200009f2",
   "metadata": {},
   "outputs": [],
   "source": [
    "len(channels['items'])"
   ]
  },
  {
   "cell_type": "code",
   "execution_count": 19,
   "id": "0f61e43b",
   "metadata": {},
   "outputs": [],
   "source": [
    "ids = [\n",
    "    'UUtUId5WFnN82GdDy7DgaQ7w',\n",
    "    'UUmvxF8oGSEvrsOZCIxMDCDQ']"
   ]
  },
  {
   "cell_type": "code",
   "execution_count": 32,
   "id": "bd37277f",
   "metadata": {},
   "outputs": [],
   "source": [
    "response = service.playlistItems().list(\n",
    "    part='contentDetails',\n",
    "    playlistId='UUtUId5WFnN82GdDy7DgaQ7w',\n",
    "    maxResults=1\n",
    ").execute()"
   ]
  },
  {
   "cell_type": "code",
   "execution_count": null,
   "id": "94f99cc3",
   "metadata": {},
   "outputs": [],
   "source": []
  },
  {
   "cell_type": "code",
   "execution_count": 33,
   "id": "4197924d",
   "metadata": {},
   "outputs": [
    {
     "data": {
      "text/plain": [
       "{'kind': 'youtube#playlistItemListResponse',\n",
       " 'etag': '83rSZEj11ALzb4wv8QXAHSO2R1Q',\n",
       " 'nextPageToken': 'EAAaBlBUOkNBRQ',\n",
       " 'items': [{'kind': 'youtube#playlistItem',\n",
       "   'etag': 'EFS1nGMFISdV7GO9JYC1eZUjXiM',\n",
       "   'id': 'VVV0VUlkNVdGbk44MkdkRHk3RGdhUTd3Lm95bktqLTFtNkhn',\n",
       "   'contentDetails': {'videoId': 'oynKj-1m6Hg',\n",
       "    'videoPublishedAt': '2021-10-01T09:07:51Z'}}],\n",
       " 'pageInfo': {'totalResults': 72, 'resultsPerPage': 1}}"
      ]
     },
     "execution_count": 33,
     "metadata": {},
     "output_type": "execute_result"
    }
   ],
   "source": [
    "response"
   ]
  },
  {
   "cell_type": "code",
   "execution_count": 54,
   "id": "545eef4b",
   "metadata": {},
   "outputs": [
    {
     "data": {
      "text/plain": [
       "'2021-10-01'"
      ]
     },
     "execution_count": 54,
     "metadata": {},
     "output_type": "execute_result"
    }
   ],
   "source": [
    "res_time = response['items'][0]['contentDetails']['videoPublishedAt'][:10]\n",
    "res_time"
   ]
  },
  {
   "cell_type": "code",
   "execution_count": 69,
   "id": "f787d912",
   "metadata": {},
   "outputs": [
    {
     "data": {
      "text/plain": [
       "'2021-10-04'"
      ]
     },
     "execution_count": 69,
     "metadata": {},
     "output_type": "execute_result"
    }
   ],
   "source": [
    "vid_time = datetime.datetime(2021, 10, 4).strftime('%Y-%m-%d')\n",
    "vid_time"
   ]
  },
  {
   "cell_type": "code",
   "execution_count": 71,
   "id": "531d1fea",
   "metadata": {},
   "outputs": [
    {
     "data": {
      "text/plain": [
       "datetime.datetime(2021, 10, 4, 0, 0)"
      ]
     },
     "execution_count": 71,
     "metadata": {},
     "output_type": "execute_result"
    }
   ],
   "source": [
    "vid_time = datetime.strptime(vid_time, '%Y-%m-%d')\n",
    "vid_time"
   ]
  },
  {
   "cell_type": "code",
   "execution_count": 75,
   "id": "2bf542e7",
   "metadata": {},
   "outputs": [
    {
     "data": {
      "text/plain": [
       "datetime.datetime(2021, 10, 24, 0, 0)"
      ]
     },
     "execution_count": 75,
     "metadata": {},
     "output_type": "execute_result"
    }
   ],
   "source": [
    "vid_new_time = vid_time + timedelta(days=20)\n",
    "vid_new_time"
   ]
  },
  {
   "cell_type": "code",
   "execution_count": 76,
   "id": "15f7fa30",
   "metadata": {},
   "outputs": [
    {
     "data": {
      "text/plain": [
       "datetime.datetime(2021, 10, 4, 0, 0)"
      ]
     },
     "execution_count": 76,
     "metadata": {},
     "output_type": "execute_result"
    }
   ],
   "source": [
    "current_time = datetime.now().strftime('%Y-%m-%d')\n",
    "current_time = datetime.strptime(current_time, '%Y-%m-%d')\n",
    "current_time"
   ]
  },
  {
   "cell_type": "code",
   "execution_count": 80,
   "id": "18d366cb",
   "metadata": {},
   "outputs": [
    {
     "data": {
      "text/plain": [
       "True"
      ]
     },
     "execution_count": 80,
     "metadata": {},
     "output_type": "execute_result"
    }
   ],
   "source": [
    "vid_new_time >= current_time"
   ]
  },
  {
   "cell_type": "code",
   "execution_count": 57,
   "id": "68379654",
   "metadata": {},
   "outputs": [
    {
     "data": {
      "text/plain": [
       "'2021-10-04'"
      ]
     },
     "execution_count": 57,
     "metadata": {},
     "output_type": "execute_result"
    }
   ],
   "source": [
    "current_time"
   ]
  },
  {
   "cell_type": "code",
   "execution_count": 66,
   "id": "f9373537",
   "metadata": {},
   "outputs": [
    {
     "data": {
      "text/plain": [
       "datetime.datetime(2021, 10, 4, 0, 0)"
      ]
     },
     "execution_count": 66,
     "metadata": {},
     "output_type": "execute_result"
    }
   ],
   "source": [
    "current_time = datetime.datetime.strptime(current_time, '%Y-%m-%d')\n",
    "current_time"
   ]
  },
  {
   "cell_type": "code",
   "execution_count": 67,
   "id": "ac5d990d",
   "metadata": {},
   "outputs": [
    {
     "data": {
      "text/plain": [
       "False"
      ]
     },
     "execution_count": 67,
     "metadata": {},
     "output_type": "execute_result"
    }
   ],
   "source": [
    "check_time == current_time"
   ]
  },
  {
   "cell_type": "code",
   "execution_count": 68,
   "id": "e33b21db",
   "metadata": {},
   "outputs": [
    {
     "data": {
      "text/plain": [
       "datetime.datetime(2021, 9, 14, 0, 0)"
      ]
     },
     "execution_count": 68,
     "metadata": {},
     "output_type": "execute_result"
    }
   ],
   "source": [
    "current_time - datetime.timedelta(days=20)"
   ]
  },
  {
   "cell_type": "code",
   "execution_count": null,
   "id": "28b8042d",
   "metadata": {},
   "outputs": [],
   "source": []
  },
  {
   "cell_type": "code",
   "execution_count": null,
   "id": "9226baec",
   "metadata": {},
   "outputs": [],
   "source": []
  },
  {
   "cell_type": "code",
   "execution_count": null,
   "id": "523edffa",
   "metadata": {},
   "outputs": [],
   "source": []
  },
  {
   "cell_type": "code",
   "execution_count": null,
   "id": "2c02064a",
   "metadata": {},
   "outputs": [],
   "source": []
  },
  {
   "cell_type": "code",
   "execution_count": null,
   "id": "85f10114",
   "metadata": {},
   "outputs": [],
   "source": []
  },
  {
   "cell_type": "code",
   "execution_count": null,
   "id": "ac73ddbd",
   "metadata": {},
   "outputs": [],
   "source": []
  },
  {
   "cell_type": "code",
   "execution_count": null,
   "id": "a4bc669b",
   "metadata": {},
   "outputs": [],
   "source": []
  },
  {
   "cell_type": "code",
   "execution_count": null,
   "id": "07ff41d7",
   "metadata": {},
   "outputs": [],
   "source": []
  },
  {
   "cell_type": "code",
   "execution_count": null,
   "id": "f2b68a4a",
   "metadata": {},
   "outputs": [],
   "source": []
  },
  {
   "cell_type": "code",
   "execution_count": null,
   "id": "5196a11e",
   "metadata": {},
   "outputs": [],
   "source": []
  },
  {
   "cell_type": "code",
   "execution_count": null,
   "id": "5e0c8b81",
   "metadata": {},
   "outputs": [],
   "source": []
  }
 ],
 "metadata": {
  "kernelspec": {
   "display_name": "Python 3 (ipykernel)",
   "language": "python",
   "name": "python3"
  },
  "language_info": {
   "codemirror_mode": {
    "name": "ipython",
    "version": 3
   },
   "file_extension": ".py",
   "mimetype": "text/x-python",
   "name": "python",
   "nbconvert_exporter": "python",
   "pygments_lexer": "ipython3",
   "version": "3.9.7"
  }
 },
 "nbformat": 4,
 "nbformat_minor": 5
}
