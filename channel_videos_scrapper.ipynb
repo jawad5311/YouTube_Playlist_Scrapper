{
 "cells": [
  {
   "cell_type": "markdown",
   "id": "08113d97",
   "metadata": {},
   "source": [
    "## Importing necessary libraries"
   ]
  },
  {
   "cell_type": "code",
   "execution_count": 1,
   "id": "c7f8a39f",
   "metadata": {},
   "outputs": [],
   "source": [
    "from Google import Create_Service\n",
    "import re\n",
    "from pprint import pprint\n",
    "from googleapiclient import errors\n",
    "\n",
    "import pandas as pd\n",
    "import numpy as np"
   ]
  },
  {
   "cell_type": "code",
   "execution_count": 2,
   "id": "b5f0b543",
   "metadata": {},
   "outputs": [],
   "source": [
    "from googleapiclient.discovery import build\n",
    "\n",
    "import os\n",
    "import dotenv\n",
    "\n",
    "dotenv.load_dotenv()\n",
    "\n",
    "key = os.environ.get('API_KEY')"
   ]
  },
  {
   "cell_type": "code",
   "execution_count": null,
   "id": "fe71027d",
   "metadata": {},
   "outputs": [],
   "source": []
  },
  {
   "cell_type": "code",
   "execution_count": 3,
   "id": "452fa667",
   "metadata": {},
   "outputs": [],
   "source": [
    "import google_auth_oauthlib.flow\n",
    "import googleapiclient.discovery\n",
    "import googleapiclient.errors"
   ]
  },
  {
   "cell_type": "code",
   "execution_count": null,
   "id": "00169fc7",
   "metadata": {},
   "outputs": [],
   "source": [
    "scopes = [\"https://www.googleapis.com/auth/youtube.readonly\"]"
   ]
  },
  {
   "cell_type": "code",
   "execution_count": null,
   "id": "24998d28",
   "metadata": {},
   "outputs": [],
   "source": [
    "api_service_name = \"youtube\"\n",
    "api_version = \"v3\"\n",
    "client_secrets_file = \"client_secret.json\""
   ]
  },
  {
   "cell_type": "code",
   "execution_count": null,
   "id": "283a9f73",
   "metadata": {},
   "outputs": [],
   "source": [
    "# Get credentials and create an API client\n",
    "flow = google_auth_oauthlib.flow.InstalledAppFlow.from_client_secrets_file(\n",
    "    client_secrets_file, scopes)"
   ]
  },
  {
   "cell_type": "code",
   "execution_count": null,
   "id": "d25617a8",
   "metadata": {
    "scrolled": true
   },
   "outputs": [],
   "source": [
    "credentials = flow.run_console()"
   ]
  },
  {
   "cell_type": "code",
   "execution_count": null,
   "id": "838062f9",
   "metadata": {},
   "outputs": [],
   "source": [
    "youtube = googleapiclient.discovery.build(\n",
    "        api_service_name, api_version, credentials=credentials)"
   ]
  },
  {
   "cell_type": "code",
   "execution_count": 4,
   "id": "7a809f3e",
   "metadata": {},
   "outputs": [],
   "source": [
    "youtube = build('youtube',\n",
    "                'v3',\n",
    "                developerKey=key)"
   ]
  },
  {
   "cell_type": "code",
   "execution_count": null,
   "id": "ec442e9b",
   "metadata": {},
   "outputs": [],
   "source": [
    "request = youtube.search().list(\n",
    "        part='snippet',\n",
    "        q='how to',\n",
    "        maxResults=50\n",
    ")"
   ]
  },
  {
   "cell_type": "code",
   "execution_count": null,
   "id": "a949395d",
   "metadata": {},
   "outputs": [],
   "source": [
    "response = request.execute()"
   ]
  },
  {
   "cell_type": "code",
   "execution_count": null,
   "id": "d89521aa",
   "metadata": {},
   "outputs": [],
   "source": [
    "response.keys()"
   ]
  },
  {
   "cell_type": "code",
   "execution_count": null,
   "id": "71e720c9",
   "metadata": {},
   "outputs": [],
   "source": [
    "response['items'][0]['snippet'].keys()"
   ]
  },
  {
   "cell_type": "code",
   "execution_count": null,
   "id": "d46e3c3b",
   "metadata": {},
   "outputs": [],
   "source": [
    "response['items'][0]['snippet']"
   ]
  },
  {
   "cell_type": "code",
   "execution_count": null,
   "id": "208e0c5b",
   "metadata": {},
   "outputs": [],
   "source": [
    "len(response['items'])"
   ]
  },
  {
   "cell_type": "code",
   "execution_count": null,
   "id": "e1fa89ac",
   "metadata": {},
   "outputs": [],
   "source": [
    "channel_id = ''\n",
    "\n",
    "items = []"
   ]
  },
  {
   "cell_type": "code",
   "execution_count": null,
   "id": "ed38618e",
   "metadata": {},
   "outputs": [],
   "source": [
    "for item in response['items']:\n",
    "    item = item['snippet']['channelId']\n",
    "    if item not in items:\n",
    "        items.append(item)"
   ]
  },
  {
   "cell_type": "code",
   "execution_count": null,
   "id": "c50a408a",
   "metadata": {},
   "outputs": [],
   "source": [
    "len(items)"
   ]
  },
  {
   "cell_type": "code",
   "execution_count": null,
   "id": "c4c22419",
   "metadata": {},
   "outputs": [],
   "source": [
    "items"
   ]
  },
  {
   "cell_type": "code",
   "execution_count": null,
   "id": "00852e97",
   "metadata": {},
   "outputs": [],
   "source": [
    "','.join(items)"
   ]
  },
  {
   "cell_type": "code",
   "execution_count": null,
   "id": "1428f9b6",
   "metadata": {},
   "outputs": [],
   "source": [
    "response['nextPageToken']"
   ]
  },
  {
   "cell_type": "code",
   "execution_count": null,
   "id": "f31b6cc5",
   "metadata": {},
   "outputs": [],
   "source": [
    "response['items'][0].keys()"
   ]
  },
  {
   "cell_type": "code",
   "execution_count": null,
   "id": "ae77eb65",
   "metadata": {},
   "outputs": [],
   "source": [
    "response"
   ]
  },
  {
   "cell_type": "code",
   "execution_count": null,
   "id": "aa7e4f5d",
   "metadata": {},
   "outputs": [],
   "source": [
    "pprint(response['items'][0]['snippet']['channelId'])"
   ]
  },
  {
   "cell_type": "code",
   "execution_count": 7,
   "id": "2968c2b4",
   "metadata": {},
   "outputs": [],
   "source": [
    "subs = youtube.channels().list(\n",
    "    part='contentDetails',\n",
    "    id='UC295-Dw_tDNtZXFeAPAW6Aw,UCJtS_7gQr-mpwDvmPODptPg,UCUsN5ZwHx2kILm84-jPDeXw,UCKA00zb2VKPHIR4iRpYWQfQ,UCU_W0oE_ock8bWKjALiGs8Q,UCIOE_IzglfnHyaOYbvpJxjA,UCke6I9N4KfC968-yRcd5YRg,UCEr55381WIqO1w_IzgcI5DQ,UCzrMFWFWPou9RCMufXwWdDg'\n",
    "    ).execute()"
   ]
  },
  {
   "cell_type": "code",
   "execution_count": 13,
   "id": "66d23766",
   "metadata": {},
   "outputs": [
    {
     "data": {
      "text/plain": [
       "dict_keys(['kind', 'etag', 'id', 'contentDetails'])"
      ]
     },
     "execution_count": 13,
     "metadata": {},
     "output_type": "execute_result"
    }
   ],
   "source": [
    "subs['items'][0].keys()"
   ]
  },
  {
   "cell_type": "code",
   "execution_count": 12,
   "id": "0cb5070c",
   "metadata": {},
   "outputs": [
    {
     "data": {
      "text/plain": [
       "{'kind': 'youtube#channel',\n",
       " 'etag': 'ZHrEgMcrJ7TsbKLWufiV1QrBHmk',\n",
       " 'id': 'UC295-Dw_tDNtZXFeAPAW6Aw',\n",
       " 'contentDetails': {'relatedPlaylists': {'likes': '',\n",
       "   'uploads': 'UU295-Dw_tDNtZXFeAPAW6Aw'}}}"
      ]
     },
     "execution_count": 12,
     "metadata": {},
     "output_type": "execute_result"
    }
   ],
   "source": [
    "subs['items'][0]"
   ]
  },
  {
   "cell_type": "code",
   "execution_count": null,
   "id": "eb4b3a33",
   "metadata": {},
   "outputs": [],
   "source": []
  },
  {
   "cell_type": "code",
   "execution_count": null,
   "id": "8b1fe732",
   "metadata": {},
   "outputs": [],
   "source": []
  },
  {
   "cell_type": "code",
   "execution_count": 8,
   "id": "292de694",
   "metadata": {},
   "outputs": [
    {
     "data": {
      "text/plain": [
       "{'kind': 'youtube#channelListResponse',\n",
       " 'etag': 'w_r-e3AVAGqiogzjw-nDwChyVUI',\n",
       " 'pageInfo': {'totalResults': 9, 'resultsPerPage': 5},\n",
       " 'items': [{'kind': 'youtube#channel',\n",
       "   'etag': 'ZHrEgMcrJ7TsbKLWufiV1QrBHmk',\n",
       "   'id': 'UC295-Dw_tDNtZXFeAPAW6Aw',\n",
       "   'contentDetails': {'relatedPlaylists': {'likes': '',\n",
       "     'uploads': 'UU295-Dw_tDNtZXFeAPAW6Aw'}}},\n",
       "  {'kind': 'youtube#channel',\n",
       "   'etag': 'CPmEnMS8XEt9d6QeygbzWoCY7Bg',\n",
       "   'id': 'UCJtS_7gQr-mpwDvmPODptPg',\n",
       "   'contentDetails': {'relatedPlaylists': {'likes': '',\n",
       "     'uploads': 'UUJtS_7gQr-mpwDvmPODptPg'}}},\n",
       "  {'kind': 'youtube#channel',\n",
       "   'etag': 'UTo6j7haxPl_T2NsUh2282kFMEc',\n",
       "   'id': 'UCU_W0oE_ock8bWKjALiGs8Q',\n",
       "   'contentDetails': {'relatedPlaylists': {'likes': '',\n",
       "     'uploads': 'UUU_W0oE_ock8bWKjALiGs8Q'}}},\n",
       "  {'kind': 'youtube#channel',\n",
       "   'etag': 'wePNM8MSjRceZl03ke32RKw1iVc',\n",
       "   'id': 'UCIOE_IzglfnHyaOYbvpJxjA',\n",
       "   'contentDetails': {'relatedPlaylists': {'likes': '',\n",
       "     'uploads': 'UUIOE_IzglfnHyaOYbvpJxjA'}}},\n",
       "  {'kind': 'youtube#channel',\n",
       "   'etag': '_wO8G1p-KCY6-u6BKfrxIOXAHqM',\n",
       "   'id': 'UCEr55381WIqO1w_IzgcI5DQ',\n",
       "   'contentDetails': {'relatedPlaylists': {'likes': '',\n",
       "     'uploads': 'UUEr55381WIqO1w_IzgcI5DQ'}}},\n",
       "  {'kind': 'youtube#channel',\n",
       "   'etag': '4aecRU0arZX294bu3yIkgDLm3TI',\n",
       "   'id': 'UCKA00zb2VKPHIR4iRpYWQfQ',\n",
       "   'contentDetails': {'relatedPlaylists': {'likes': '',\n",
       "     'uploads': 'UUKA00zb2VKPHIR4iRpYWQfQ'}}},\n",
       "  {'kind': 'youtube#channel',\n",
       "   'etag': '4gmQYwLW6L6Q_W1EZ6hxx-PKxb8',\n",
       "   'id': 'UCzrMFWFWPou9RCMufXwWdDg',\n",
       "   'contentDetails': {'relatedPlaylists': {'likes': '',\n",
       "     'uploads': 'UUzrMFWFWPou9RCMufXwWdDg'}}},\n",
       "  {'kind': 'youtube#channel',\n",
       "   'etag': 'ZeiR98chBz2wXZ4xvwemlD4_0Wc',\n",
       "   'id': 'UCke6I9N4KfC968-yRcd5YRg',\n",
       "   'contentDetails': {'relatedPlaylists': {'likes': '',\n",
       "     'uploads': 'UUke6I9N4KfC968-yRcd5YRg'}}},\n",
       "  {'kind': 'youtube#channel',\n",
       "   'etag': 'O8-FGBIkWaZlkxrz9N0Z8VM9E0g',\n",
       "   'id': 'UCUsN5ZwHx2kILm84-jPDeXw',\n",
       "   'contentDetails': {'relatedPlaylists': {'likes': '',\n",
       "     'uploads': 'UUUsN5ZwHx2kILm84-jPDeXw'}}}]}"
      ]
     },
     "execution_count": 8,
     "metadata": {},
     "output_type": "execute_result"
    }
   ],
   "source": [
    "subs"
   ]
  },
  {
   "cell_type": "code",
   "execution_count": null,
   "id": "7517977f",
   "metadata": {},
   "outputs": [],
   "source": [
    "subs['items'][0]['statistics']['subscriberCount']"
   ]
  },
  {
   "cell_type": "code",
   "execution_count": null,
   "id": "bfef2ae7",
   "metadata": {},
   "outputs": [],
   "source": [
    "if 1000 < 1500 < 10000:\n",
    "    print('hi')"
   ]
  },
  {
   "cell_type": "code",
   "execution_count": null,
   "id": "fb9903ce",
   "metadata": {},
   "outputs": [],
   "source": [
    "status = youtube.channels().list(\n",
    "    part='contentOwnerDetails',\n",
    "    id='UCVpjwUjHY7VRZ_ILIPuarRg'\n",
    "    ).execute()"
   ]
  },
  {
   "cell_type": "code",
   "execution_count": null,
   "id": "26e18511",
   "metadata": {},
   "outputs": [],
   "source": [
    "status"
   ]
  },
  {
   "cell_type": "code",
   "execution_count": null,
   "id": "d4f210a5",
   "metadata": {},
   "outputs": [],
   "source": [
    "{'kind': 'youtube#channelListResponse',\n",
    " 'etag': 'DQQ8Mw8qxFYgusNP4jXSOF8h69k',\n",
    " 'pageInfo': {'totalResults': 1, 'resultsPerPage': 5},\n",
    " 'items': [{'kind': 'youtube#channel',\n",
    "   'etag': '0vaUrbl4ySogbZ-RYYDUVggK0eo',\n",
    "   'id': 'UCzav3AnB8UKKM6zzg1_CHpA',\n",
    "   'contentOwnerDetails': {}}]}"
   ]
  },
  {
   "cell_type": "code",
   "execution_count": null,
   "id": "6d1592a4",
   "metadata": {},
   "outputs": [],
   "source": [
    "subs_2 = youtube.subscriptions().list(\n",
    "    part='statistics',\n",
    "    id='UCzav3AnB8UKKM6zzg1_CHpA'\n",
    "    ).execute()"
   ]
  },
  {
   "cell_type": "code",
   "execution_count": null,
   "id": "20d9c937",
   "metadata": {},
   "outputs": [],
   "source": []
  },
  {
   "cell_type": "code",
   "execution_count": null,
   "id": "f2c8bda4",
   "metadata": {},
   "outputs": [],
   "source": []
  },
  {
   "cell_type": "code",
   "execution_count": null,
   "id": "517ed8cf",
   "metadata": {},
   "outputs": [],
   "source": []
  },
  {
   "cell_type": "code",
   "execution_count": null,
   "id": "405b6fdd",
   "metadata": {},
   "outputs": [],
   "source": [
    "# Creating YouTube class to communicate with YouTube API\n",
    "class YouTube:\n",
    "    \"\"\"\n",
    "    Communicate with YouTube API\n",
    "\n",
    "    ...\n",
    "\n",
    "    Attributes:\n",
    "        key: str\n",
    "            Api key used to create service and authenticate user\n",
    "\n",
    "    Methods:\n",
    "        construct_service():\n",
    "            Construct service using API_KEY\n",
    "        upload_response():\n",
    "            Retrieve all uploaded videos playlist's ID\n",
    "        get_playlist_items():\n",
    "            Retrieve all videos information from playlist\n",
    "    \"\"\"\n",
    "    def __init__(self, key, scopes: list = None):\n",
    "        # self.secret_file = secret_file\n",
    "        self.key = key\n",
    "        self.scopes = scopes\n",
    "\n",
    "    # def construct_service(self):\n",
    "    #     \"\"\"\n",
    "    #         Responsible for creating service instance from 'google.Create_Service'\n",
    "    #     \"\"\"\n",
    "    #     API_SERVICE = 'youtube'\n",
    "    #     API_VERSION = 'v3'\n",
    "    #     service = Create_Service(self.secret_file, API_SERVICE, API_VERSION, self.scopes)\n",
    "    #     return service\n",
    "\n",
    "    def construct_service(self):\n",
    "        \"\"\"\n",
    "        Creates service object from build method\n",
    "        \"\"\"\n",
    "\n",
    "        API_SERVICE = 'youtube'\n",
    "        API_VERSION = 'v3'\n",
    "        service = build(\n",
    "            API_SERVICE,\n",
    "            API_VERSION,\n",
    "            developerKey=self.key\n",
    "        )\n",
    "        return service\n",
    "\n",
    "    @staticmethod\n",
    "    def upload_response(service, channel_id: str) -> str:\n",
    "        \"\"\"\n",
    "        Send request to retrieve uploaded videos response as playlist ID.\n",
    "\n",
    "            Parameters:\n",
    "                service: Instance of Create_Service()\n",
    "                    service object created using construct_service()\n",
    "                channel_id: str\n",
    "                    Channel's id required for request\n",
    "            Returns:\n",
    "                str: playlist_id\n",
    "        \"\"\"\n",
    "        request = service.channels().list(\n",
    "            part='contentDetails',\n",
    "            id=channel_id\n",
    "        )\n",
    "\n",
    "        response = request.execute()  # Send request and receive response\n",
    "\n",
    "        # Extract playlist_id from the received response\n",
    "        playlist_id = response['items'][0]['contentDetails']['relatedPlaylists']['uploads']\n",
    "\n",
    "        return playlist_id\n",
    "\n",
    "    @staticmethod\n",
    "    def get_playlist_items(service, playlist_Id: str):\n",
    "        \"\"\"\n",
    "        Retrieve all videos information from playlist.\n",
    "\n",
    "        Parameters:\n",
    "            service: Instance of Create_Service()\n",
    "                service object created using construct_service()\n",
    "            playlist_Id: str\n",
    "                Id of the playlist from which to retrieve data\n",
    "\n",
    "        Returns:\n",
    "            List: contains information of all videos\n",
    "        \"\"\"\n",
    "        try:\n",
    "            # Create request to retrieve playlist items\n",
    "            request = service.playlistItems().list(\n",
    "                part='contentDetails',\n",
    "                playlistId=playlist_Id,\n",
    "                maxResults=50  # Max results per request (maximum: 50)\n",
    "            )\n",
    "\n",
    "            response = request.execute()  # Send request and receive response\n",
    "\n",
    "            #print(response)\n",
    "\n",
    "            playlist_items = response['items']  # Grabs only videos info from the response\n",
    "            nextPageToken = response['nextPageToken']  # Grabs next page token\n",
    "\n",
    "            print(nextPageToken)\n",
    "\n",
    "            current_page = 1\n",
    "\n",
    "            # Retrieve data while the next page is available\n",
    "            while nextPageToken:\n",
    "                request = service.playlistItems().list(\n",
    "                    part='contentDetails',\n",
    "                    playlistId=playlist_Id,\n",
    "                    maxResults=50,  # max results per request (maximum: 50)\n",
    "                    pageToken=nextPageToken\n",
    "                )\n",
    "\n",
    "                response = request.execute()  # Send request\n",
    "\n",
    "                print(f'Current Page: {current_page}')  # prints current page\n",
    "                current_page += 1\n",
    "\n",
    "                # Add items to playlist_items that are retrieved from next page\n",
    "                playlist_items.extend(response['items'])\n",
    "                nextPageToken = response.get('nextPageToken')\n",
    "\n",
    "                #print(response)\n",
    "                print(nextPageToken)\n",
    "                \n",
    "            print(f'Total Videos found: {len(playlist_items)}')\n",
    "                \n",
    "        except KeyError as e:\n",
    "            print(f'Total Videos found: {len(playlist_items)}')\n",
    "            pass\n",
    "\n",
    "        videos_id = []  # Holds all available videos id's\n",
    "\n",
    "        # Go through playlist items list and retrieve all videos id's\n",
    "        for video_id in playlist_items:\n",
    "            try:\n",
    "                id = video_id['snippet']['resourceId']['videoId']\n",
    "                videos_id.append(id)\n",
    "\n",
    "            except KeyError:\n",
    "                id = video_id['contentDetails']['videoId']\n",
    "                videos_id.append(id)\n",
    "\n",
    "        videos_info = []  # Holds info about all available videos\n",
    "\n",
    "        # Loop through all videos id's and retrieve info\n",
    "        for batch_num in range(0, len(videos_id), 50):\n",
    "            # Create batches of videos to request data\n",
    "            videos_batch = videos_id[batch_num: batch_num + 50]  # Batch Size: 50\n",
    "\n",
    "            # Send request to retrieve video's details\n",
    "            response_videos = service.videos().list(\n",
    "                # video details to be retrieved for each video\n",
    "                part='contentDetails,snippet,statistics',\n",
    "                id=videos_batch,\n",
    "                maxResults=50\n",
    "            ).execute()\n",
    "            # batch items received from videos response\n",
    "            batch_items = response_videos['items']\n",
    "            # Adding batch items to videos_info list\n",
    "            videos_info.extend(batch_items)\n",
    "\n",
    "        return videos_info\n",
    "\n",
    "    @staticmethod\n",
    "    def convert_duration_to_seconds(duration: str) -> int:\n",
    "        \"\"\"\n",
    "        Converts video duration to seconds\n",
    "\n",
    "        Parameters:\n",
    "            duration: str ->.\n",
    "                time duration in format '00H00M00S'\n",
    "\n",
    "        Returns:\n",
    "            int: total number of seconds\n",
    "        \"\"\"\n",
    "\n",
    "        h = int(re.search('\\d+H', duration)[0][:-1]) * 60**2 if re.search('\\d+H', duration) else 0\n",
    "        m = int(re.search('\\d+M', duration)[0][:-1]) * 60 if re.search('\\d+M', duration) else 0\n",
    "        s = int(re.search('\\d+S', duration)[0][:-1]) if re.search('\\d+S', duration) else 0\n",
    "        return h + m + s\n",
    "\n",
    "    @staticmethod\n",
    "    def create_csv(data):\n",
    "        for item in data:\n",
    "            title = item['snippet']['title']\n",
    "            print(title)"
   ]
  },
  {
   "cell_type": "code",
   "execution_count": null,
   "id": "4398ef06",
   "metadata": {},
   "outputs": [],
   "source": []
  },
  {
   "cell_type": "code",
   "execution_count": null,
   "id": "d75e85af",
   "metadata": {},
   "outputs": [],
   "source": []
  },
  {
   "cell_type": "code",
   "execution_count": null,
   "id": "e21e00bd",
   "metadata": {},
   "outputs": [],
   "source": []
  },
  {
   "cell_type": "code",
   "execution_count": null,
   "id": "ca0621e5",
   "metadata": {},
   "outputs": [],
   "source": []
  },
  {
   "cell_type": "code",
   "execution_count": null,
   "id": "74a7e80b",
   "metadata": {},
   "outputs": [],
   "source": [
    "yt = YouTube(key)"
   ]
  },
  {
   "cell_type": "code",
   "execution_count": null,
   "id": "7af108e2",
   "metadata": {
    "scrolled": true
   },
   "outputs": [],
   "source": [
    "service = yt.construct_service()"
   ]
  },
  {
   "cell_type": "code",
   "execution_count": null,
   "id": "6143dc15",
   "metadata": {},
   "outputs": [],
   "source": [
    "service"
   ]
  },
  {
   "cell_type": "code",
   "execution_count": null,
   "id": "2b4ac195",
   "metadata": {},
   "outputs": [],
   "source": [
    "response = yt.upload_response(service, 'UCSJBJ3sP5GRUJMON12v28ew')"
   ]
  },
  {
   "cell_type": "code",
   "execution_count": null,
   "id": "63aa9384",
   "metadata": {},
   "outputs": [],
   "source": [
    "response"
   ]
  },
  {
   "cell_type": "code",
   "execution_count": null,
   "id": "85246318",
   "metadata": {},
   "outputs": [],
   "source": [
    "items = yt.get_playlist_items(service, 'UUSJBJ3sP5GRUJMON12v28ew')"
   ]
  },
  {
   "cell_type": "code",
   "execution_count": null,
   "id": "13be3956",
   "metadata": {
    "scrolled": true
   },
   "outputs": [],
   "source": [
    "type(items)"
   ]
  },
  {
   "cell_type": "code",
   "execution_count": null,
   "id": "933f068a",
   "metadata": {},
   "outputs": [],
   "source": [
    "from pprint import pprint\n",
    "\n",
    "pprint(items[0])"
   ]
  },
  {
   "cell_type": "code",
   "execution_count": null,
   "id": "062033a8",
   "metadata": {},
   "outputs": [],
   "source": [
    "items[0]['statistics']['dislikeCount']"
   ]
  },
  {
   "cell_type": "code",
   "execution_count": null,
   "id": "eaaee96c",
   "metadata": {},
   "outputs": [],
   "source": []
  },
  {
   "cell_type": "code",
   "execution_count": null,
   "id": "3e495b66",
   "metadata": {},
   "outputs": [],
   "source": [
    "title = items[0]['snippet']['title']\n",
    "title"
   ]
  },
  {
   "cell_type": "code",
   "execution_count": null,
   "id": "7885ed6d",
   "metadata": {},
   "outputs": [],
   "source": [
    "date = items[0]['snippet']['publishedAt']\n",
    "date[:10]"
   ]
  },
  {
   "cell_type": "code",
   "execution_count": null,
   "id": "83b08961",
   "metadata": {},
   "outputs": [],
   "source": [
    "duration = items[0]['contentDetails']['duration']\n",
    "duration"
   ]
  },
  {
   "cell_type": "code",
   "execution_count": null,
   "id": "9622724c",
   "metadata": {},
   "outputs": [],
   "source": [
    "views = items[0]['statistics']['viewCount']\n",
    "views"
   ]
  },
  {
   "cell_type": "code",
   "execution_count": null,
   "id": "45caea93",
   "metadata": {},
   "outputs": [],
   "source": [
    "yt.convert_duration_to_seconds(duration)"
   ]
  },
  {
   "cell_type": "code",
   "execution_count": null,
   "id": "f5ad1d0d",
   "metadata": {},
   "outputs": [],
   "source": [
    "import re"
   ]
  },
  {
   "cell_type": "code",
   "execution_count": null,
   "id": "d5a0166f",
   "metadata": {},
   "outputs": [],
   "source": [
    "int(re.search('\\d+S', 'PT42M39S')[0][:-1]) if re.search('\\d+S', 'PT42M39S') else 0"
   ]
  },
  {
   "cell_type": "code",
   "execution_count": null,
   "id": "9185f231",
   "metadata": {},
   "outputs": [],
   "source": [
    "int(re.search('\\d+M', 'PT42M39S')[0][:-1]) * 60 if re.search('\\d+M', 'PT42M39S') else 0"
   ]
  },
  {
   "cell_type": "code",
   "execution_count": null,
   "id": "e9c77949",
   "metadata": {},
   "outputs": [],
   "source": [
    "int(re.search('\\d+H', 'PT42M39S')[0][:-1]) * 60**2 if re.search('\\d+H', 'PT42M39S') else 0"
   ]
  },
  {
   "cell_type": "code",
   "execution_count": null,
   "id": "a315d30a",
   "metadata": {},
   "outputs": [],
   "source": []
  },
  {
   "cell_type": "code",
   "execution_count": null,
   "id": "23692159",
   "metadata": {},
   "outputs": [],
   "source": [
    "yt.create_csv(items)"
   ]
  },
  {
   "cell_type": "code",
   "execution_count": null,
   "id": "e9ae1f4b",
   "metadata": {},
   "outputs": [],
   "source": [
    "titles, dates, views, durations = [], [], [], []\n",
    "\n",
    "for item in items:\n",
    "    title = item['snippet']['title']\n",
    "    date = item['snippet']['publishedAt'][:10]\n",
    "    view = item['statistics']['viewCount']\n",
    "    duration = item['contentDetails']['duration']\n",
    "    duration = YouTube.convert_duration_to_seconds(duration)\n",
    "\n",
    "    titles.append(title)\n",
    "    dates.append(date)\n",
    "    views.append(view)\n",
    "    durations.append(duration)\n",
    "    \n",
    "    \n",
    "len(titles), len(dates), len(views), len(durations)"
   ]
  },
  {
   "cell_type": "code",
   "execution_count": null,
   "id": "c9eb98c4",
   "metadata": {},
   "outputs": [],
   "source": [
    "yt_data = pd.DataFrame({\n",
    "    'Title': titles,\n",
    "    'Upload_Date': dates,\n",
    "    'Views': views,\n",
    "    'Duration': durations\n",
    "})"
   ]
  },
  {
   "cell_type": "code",
   "execution_count": null,
   "id": "4a5d6313",
   "metadata": {},
   "outputs": [],
   "source": [
    "yt_data.head()"
   ]
  },
  {
   "cell_type": "code",
   "execution_count": null,
   "id": "3cce8f41",
   "metadata": {},
   "outputs": [],
   "source": [
    "yt_data.to_csv('data.csv', index=False)"
   ]
  },
  {
   "cell_type": "code",
   "execution_count": null,
   "id": "9581bf93",
   "metadata": {},
   "outputs": [],
   "source": [
    "titles, dates, views, durations, likes, dislikes, comments = ([] for _ in range(7))\n"
   ]
  },
  {
   "cell_type": "code",
   "execution_count": null,
   "id": "e4a4bd2e",
   "metadata": {
    "scrolled": true
   },
   "outputs": [],
   "source": [
    "id(titles), id(dates)"
   ]
  },
  {
   "cell_type": "code",
   "execution_count": null,
   "id": "30a39851",
   "metadata": {},
   "outputs": [],
   "source": [
    "type(titles), type(dates)"
   ]
  },
  {
   "cell_type": "code",
   "execution_count": null,
   "id": "454cd0c6",
   "metadata": {},
   "outputs": [],
   "source": [
    "id(ls1), id(ls2)"
   ]
  },
  {
   "cell_type": "code",
   "execution_count": null,
   "id": "003ebf72",
   "metadata": {},
   "outputs": [],
   "source": [
    "columns = ['titles', 'dates', 'views', 'durations', 'likes', 'dislikes', 'comments']"
   ]
  },
  {
   "cell_type": "code",
   "execution_count": null,
   "id": "871f5433",
   "metadata": {},
   "outputs": [],
   "source": [
    "for _ in columns:\n",
    "    globals()[_] = []\n",
    "    print(_)\n",
    "    print(type(_))"
   ]
  },
  {
   "cell_type": "code",
   "execution_count": null,
   "id": "88e0edeb",
   "metadata": {},
   "outputs": [],
   "source": [
    "type('titles')"
   ]
  },
  {
   "cell_type": "code",
   "execution_count": null,
   "id": "45d8b9bc",
   "metadata": {
    "scrolled": true
   },
   "outputs": [],
   "source": [
    "exec([] for _ in columns)"
   ]
  },
  {
   "cell_type": "code",
   "execution_count": null,
   "id": "fb8f329a",
   "metadata": {},
   "outputs": [],
   "source": []
  }
 ],
 "metadata": {
  "kernelspec": {
   "display_name": "Python 3 (ipykernel)",
   "language": "python",
   "name": "python3"
  },
  "language_info": {
   "codemirror_mode": {
    "name": "ipython",
    "version": 3
   },
   "file_extension": ".py",
   "mimetype": "text/x-python",
   "name": "python",
   "nbconvert_exporter": "python",
   "pygments_lexer": "ipython3",
   "version": "3.9.7"
  }
 },
 "nbformat": 4,
 "nbformat_minor": 5
}
